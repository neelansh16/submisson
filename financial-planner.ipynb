{
 "cells": [
  {
   "cell_type": "markdown",
   "metadata": {},
   "source": [
    "# Unit 5 - Financial Planning"
   ]
  },
  {
   "cell_type": "code",
   "execution_count": 1,
   "metadata": {},
   "outputs": [],
   "source": [
    "# Initial imports\n",
    "import os\n",
    "import requests\n",
    "import pandas as pd\n",
    "from dotenv import load_dotenv\n",
    "import alpaca_trade_api as tradeapi\n",
    "from MCForecastTools import MCSimulation\n",
    "import json\n",
    "\n",
    "%matplotlib inline"
   ]
  },
  {
   "cell_type": "code",
   "execution_count": 2,
   "metadata": {},
   "outputs": [
    {
     "data": {
      "text/plain": [
       "True"
      ]
     },
     "execution_count": 2,
     "metadata": {},
     "output_type": "execute_result"
    }
   ],
   "source": [
    "# Load .env enviroment variables\n",
    "load_dotenv('../keys.env')\n"
   ]
  },
  {
   "cell_type": "markdown",
   "metadata": {},
   "source": [
    "## Part 1 - Personal Finance Planner"
   ]
  },
  {
   "cell_type": "markdown",
   "metadata": {},
   "source": [
    "### Collect Crypto Prices Using the `requests` Library"
   ]
  },
  {
   "cell_type": "code",
   "execution_count": 3,
   "metadata": {},
   "outputs": [],
   "source": [
    "# Set current amount of crypto assets\n",
    "monthly_income=(12000)\n",
    "# YOUR CODE HERE!\n",
    "Current_amount_of_crypto_assets = ('monthly_income')\n"
   ]
  },
  {
   "cell_type": "code",
   "execution_count": 4,
   "metadata": {},
   "outputs": [],
   "source": [
    "# Crypto API URLs\n",
    "btc_url = \"https://api.alternative.me/v2/ticker/Bitcoin/?convert=USD\"\n",
    "eth_url = \"https://api.alternative.me/v2/ticker/Ethereum/?convert=USD\"\n"
   ]
  },
  {
   "cell_type": "code",
   "execution_count": 5,
   "metadata": {},
   "outputs": [
    {
     "data": {
      "text/plain": [
       "'{\\n    \"data\": {\\n        \"1\": {\\n            \"circulating_supply\": 19434300,\\n            \"id\": 1,\\n            \"last_updated\": 1689833687,\\n            \"max_supply\": 21000000,\\n            \"name\": \"Bitcoin\",\\n            \"quotes\": {\\n                \"USD\": {\\n                    \"market_cap\": 586217323481,\\n                    \"percent_change_1h\": 0.437654039077297,\\n                    \"percent_change_24h\": 0.04464851760725,\\n                    \"percent_change_7d\": -0.635694920983478,\\n                    \"percentage_change_1h\": 0.437654039077297,\\n                    \"percentage_change_24h\": 0.04464851760725,\\n                    \"percentage_change_7d\": -0.635694920983478,\\n                    \"price\": 30111.0,\\n                    \"volume_24h\": 11049260630\\n                }\\n            },\\n            \"rank\": 1,\\n            \"symbol\": \"BTC\",\\n            \"total_supply\": 19434300,\\n            \"website_slug\": \"bitcoin\"\\n        }\\n    },\\n    \"metadata\": {\\n        \"error\": null,\\n        \"num_cryptocurrencies\": 3119,\\n        \"timestamp\": 1689833687\\n    }\\n}'"
      ]
     },
     "metadata": {},
     "output_type": "display_data"
    }
   ],
   "source": [
    "# Fetch current BTC price\n",
    "# YOUR CODE HERE!\n",
    "btc_url = \"https://api.alternative.me/v2/ticker/Bitcoin/?convert=USD\"\n",
    "response_data_btc = requests.get(btc_url).json()\n",
    "response_data_btc\n",
    "# Fetch current ETH price\n",
    "# YOUR CODE HERE!\n",
    "eth_url = \"https://api.alternative.me/v2/ticker/Ethereum/?convert=USD\"\n",
    "response_data_eth = requests.get(eth_url).json()\n",
    "response_data_eth\n",
    "# Compute current value of my crpto\n",
    "# YOUR CODE HERE!\n",
    "display(json.dumps(response_data_btc, indent= 4, sort_keys = True))\n",
    "\n",
    "\n",
    "# # Print current crypto wallet balance\n",
    "# print(f\"The current value of your {my_btc} BTC is ${my_btc_value:0.2f}\")\n",
    "# print(f\"The current value of your {my_eth} ETH is ${my_eth_value:0.2f}\")\n"
   ]
  },
  {
   "cell_type": "code",
   "execution_count": 6,
   "metadata": {},
   "outputs": [
    {
     "data": {
      "text/plain": [
       "'{\\n    \"data\": {\\n        \"1027\": {\\n            \"circulating_supply\": 120196048,\\n            \"id\": 1027,\\n            \"last_updated\": 1689833687,\\n            \"max_supply\": 120196550,\\n            \"name\": \"Ethereum\",\\n            \"quotes\": {\\n                \"USD\": {\\n                    \"market_cap\": 229365599402,\\n                    \"percent_change_1h\": 0.420769061270833,\\n                    \"percent_change_24h\": -0.444201585680672,\\n                    \"percent_change_7d\": 2.05217278657939,\\n                    \"percentage_change_1h\": 0.420769061270833,\\n                    \"percentage_change_24h\": -0.444201585680672,\\n                    \"percentage_change_7d\": 2.05217278657939,\\n                    \"price\": 1905.5,\\n                    \"volume_24h\": 8988148661\\n                }\\n            },\\n            \"rank\": 2,\\n            \"symbol\": \"ETH\",\\n            \"total_supply\": 120196048,\\n            \"website_slug\": \"ethereum\"\\n        }\\n    },\\n    \"metadata\": {\\n        \"error\": null,\\n        \"num_cryptocurrencies\": 3119,\\n        \"timestamp\": 1689833687\\n    }\\n}'"
      ]
     },
     "metadata": {},
     "output_type": "display_data"
    }
   ],
   "source": [
    "display(json.dumps(response_data_eth, indent= 4, sort_keys = True))"
   ]
  },
  {
   "cell_type": "markdown",
   "metadata": {},
   "source": [
    "### Collect Investments Data Using Alpaca: `SPY` (stocks) and `AGG` (bonds)"
   ]
  },
  {
   "cell_type": "code",
   "execution_count": 7,
   "metadata": {},
   "outputs": [],
   "source": [
    "# Set current amount of shares\n",
    "my_agg = 200\n",
    "my_spy = 50\n"
   ]
  },
  {
   "cell_type": "code",
   "execution_count": 8,
   "metadata": {},
   "outputs": [],
   "source": [
    "# Set Alpaca API key and secret\n",
    "# YOUR CODE HERE!\n",
    "\n",
    "alpaca_api_key = os.getenv(\"ALPACA_API_KEY\")\n",
    "#type(alpaca_api_key)\n",
    "alpaca_secret_key = os.getenv(\"ALPACA_SECRET_KEY\")\n",
    "#type(alpaca_secret_key)\n",
    "# Create the Alpaca API object\n",
    "# YOUR CODE HERE!\n",
    "alpaca = tradeapi.REST(\n",
    "    alpaca_api_key,\n",
    "    alpaca_secret_key,\n",
    "    api_version=\"v2\")\n"
   ]
  },
  {
   "cell_type": "code",
   "execution_count": 9,
   "metadata": {},
   "outputs": [
    {
     "data": {
      "text/html": [
       "<div>\n",
       "<style scoped>\n",
       "    .dataframe tbody tr th:only-of-type {\n",
       "        vertical-align: middle;\n",
       "    }\n",
       "\n",
       "    .dataframe tbody tr th {\n",
       "        vertical-align: top;\n",
       "    }\n",
       "\n",
       "    .dataframe thead tr th {\n",
       "        text-align: left;\n",
       "    }\n",
       "\n",
       "    .dataframe thead tr:last-of-type th {\n",
       "        text-align: right;\n",
       "    }\n",
       "</style>\n",
       "<table border=\"1\" class=\"dataframe\">\n",
       "  <thead>\n",
       "    <tr>\n",
       "      <th></th>\n",
       "      <th colspan=\"7\" halign=\"left\">AGG</th>\n",
       "      <th colspan=\"7\" halign=\"left\">SPY</th>\n",
       "    </tr>\n",
       "    <tr>\n",
       "      <th></th>\n",
       "      <th>open</th>\n",
       "      <th>high</th>\n",
       "      <th>low</th>\n",
       "      <th>close</th>\n",
       "      <th>volume</th>\n",
       "      <th>trade_count</th>\n",
       "      <th>vwap</th>\n",
       "      <th>open</th>\n",
       "      <th>high</th>\n",
       "      <th>low</th>\n",
       "      <th>close</th>\n",
       "      <th>volume</th>\n",
       "      <th>trade_count</th>\n",
       "      <th>vwap</th>\n",
       "    </tr>\n",
       "    <tr>\n",
       "      <th>timestamp</th>\n",
       "      <th></th>\n",
       "      <th></th>\n",
       "      <th></th>\n",
       "      <th></th>\n",
       "      <th></th>\n",
       "      <th></th>\n",
       "      <th></th>\n",
       "      <th></th>\n",
       "      <th></th>\n",
       "      <th></th>\n",
       "      <th></th>\n",
       "      <th></th>\n",
       "      <th></th>\n",
       "      <th></th>\n",
       "    </tr>\n",
       "  </thead>\n",
       "  <tbody>\n",
       "    <tr>\n",
       "      <th>2020-07-17 04:00:00+00:00</th>\n",
       "      <td>118.94</td>\n",
       "      <td>118.99</td>\n",
       "      <td>118.7700</td>\n",
       "      <td>118.88</td>\n",
       "      <td>2549106</td>\n",
       "      <td>11425</td>\n",
       "      <td>118.832256</td>\n",
       "      <td>321.890</td>\n",
       "      <td>322.57</td>\n",
       "      <td>319.7350</td>\n",
       "      <td>321.70</td>\n",
       "      <td>64041703</td>\n",
       "      <td>324200</td>\n",
       "      <td>321.546922</td>\n",
       "    </tr>\n",
       "    <tr>\n",
       "      <th>2020-07-20 04:00:00+00:00</th>\n",
       "      <td>119.03</td>\n",
       "      <td>119.06</td>\n",
       "      <td>118.9100</td>\n",
       "      <td>119.01</td>\n",
       "      <td>3989211</td>\n",
       "      <td>13068</td>\n",
       "      <td>118.971408</td>\n",
       "      <td>321.430</td>\n",
       "      <td>325.13</td>\n",
       "      <td>320.6200</td>\n",
       "      <td>324.27</td>\n",
       "      <td>56308960</td>\n",
       "      <td>302422</td>\n",
       "      <td>323.156022</td>\n",
       "    </tr>\n",
       "    <tr>\n",
       "      <th>2020-07-21 04:00:00+00:00</th>\n",
       "      <td>119.10</td>\n",
       "      <td>119.10</td>\n",
       "      <td>119.0100</td>\n",
       "      <td>119.08</td>\n",
       "      <td>6098027</td>\n",
       "      <td>19139</td>\n",
       "      <td>119.054911</td>\n",
       "      <td>326.450</td>\n",
       "      <td>326.93</td>\n",
       "      <td>323.9400</td>\n",
       "      <td>324.90</td>\n",
       "      <td>57502967</td>\n",
       "      <td>337835</td>\n",
       "      <td>325.622832</td>\n",
       "    </tr>\n",
       "    <tr>\n",
       "      <th>2020-07-22 04:00:00+00:00</th>\n",
       "      <td>119.22</td>\n",
       "      <td>119.27</td>\n",
       "      <td>119.1100</td>\n",
       "      <td>119.18</td>\n",
       "      <td>6296788</td>\n",
       "      <td>13368</td>\n",
       "      <td>119.194519</td>\n",
       "      <td>324.620</td>\n",
       "      <td>327.20</td>\n",
       "      <td>324.5000</td>\n",
       "      <td>326.82</td>\n",
       "      <td>57794928</td>\n",
       "      <td>313092</td>\n",
       "      <td>325.873095</td>\n",
       "    </tr>\n",
       "    <tr>\n",
       "      <th>2020-07-23 04:00:00+00:00</th>\n",
       "      <td>119.35</td>\n",
       "      <td>119.39</td>\n",
       "      <td>119.2517</td>\n",
       "      <td>119.32</td>\n",
       "      <td>12117179</td>\n",
       "      <td>41351</td>\n",
       "      <td>119.332482</td>\n",
       "      <td>326.470</td>\n",
       "      <td>327.23</td>\n",
       "      <td>321.4800</td>\n",
       "      <td>322.95</td>\n",
       "      <td>75737989</td>\n",
       "      <td>442128</td>\n",
       "      <td>324.337984</td>\n",
       "    </tr>\n",
       "    <tr>\n",
       "      <th>...</th>\n",
       "      <td>...</td>\n",
       "      <td>...</td>\n",
       "      <td>...</td>\n",
       "      <td>...</td>\n",
       "      <td>...</td>\n",
       "      <td>...</td>\n",
       "      <td>...</td>\n",
       "      <td>...</td>\n",
       "      <td>...</td>\n",
       "      <td>...</td>\n",
       "      <td>...</td>\n",
       "      <td>...</td>\n",
       "      <td>...</td>\n",
       "      <td>...</td>\n",
       "    </tr>\n",
       "    <tr>\n",
       "      <th>2023-07-13 04:00:00+00:00</th>\n",
       "      <td>98.18</td>\n",
       "      <td>98.44</td>\n",
       "      <td>98.1150</td>\n",
       "      <td>98.41</td>\n",
       "      <td>7458509</td>\n",
       "      <td>31270</td>\n",
       "      <td>98.343983</td>\n",
       "      <td>447.900</td>\n",
       "      <td>450.38</td>\n",
       "      <td>447.4500</td>\n",
       "      <td>449.56</td>\n",
       "      <td>72425241</td>\n",
       "      <td>449368</td>\n",
       "      <td>448.598241</td>\n",
       "    </tr>\n",
       "    <tr>\n",
       "      <th>2023-07-14 04:00:00+00:00</th>\n",
       "      <td>98.23</td>\n",
       "      <td>98.31</td>\n",
       "      <td>97.9200</td>\n",
       "      <td>97.94</td>\n",
       "      <td>7208357</td>\n",
       "      <td>21903</td>\n",
       "      <td>98.096753</td>\n",
       "      <td>450.475</td>\n",
       "      <td>451.36</td>\n",
       "      <td>448.4900</td>\n",
       "      <td>449.28</td>\n",
       "      <td>69730670</td>\n",
       "      <td>484025</td>\n",
       "      <td>449.818675</td>\n",
       "    </tr>\n",
       "    <tr>\n",
       "      <th>2023-07-17 04:00:00+00:00</th>\n",
       "      <td>97.95</td>\n",
       "      <td>98.10</td>\n",
       "      <td>97.8500</td>\n",
       "      <td>98.05</td>\n",
       "      <td>4689560</td>\n",
       "      <td>19746</td>\n",
       "      <td>97.991651</td>\n",
       "      <td>449.130</td>\n",
       "      <td>451.93</td>\n",
       "      <td>449.0800</td>\n",
       "      <td>450.84</td>\n",
       "      <td>52694540</td>\n",
       "      <td>386290</td>\n",
       "      <td>450.464364</td>\n",
       "    </tr>\n",
       "    <tr>\n",
       "      <th>2023-07-18 04:00:00+00:00</th>\n",
       "      <td>98.33</td>\n",
       "      <td>98.41</td>\n",
       "      <td>98.1300</td>\n",
       "      <td>98.13</td>\n",
       "      <td>5593380</td>\n",
       "      <td>18636</td>\n",
       "      <td>98.232098</td>\n",
       "      <td>450.500</td>\n",
       "      <td>454.86</td>\n",
       "      <td>450.0484</td>\n",
       "      <td>454.19</td>\n",
       "      <td>80744448</td>\n",
       "      <td>519350</td>\n",
       "      <td>453.206858</td>\n",
       "    </tr>\n",
       "    <tr>\n",
       "      <th>2023-07-19 04:00:00+00:00</th>\n",
       "      <td>98.35</td>\n",
       "      <td>98.48</td>\n",
       "      <td>98.1850</td>\n",
       "      <td>98.43</td>\n",
       "      <td>7467923</td>\n",
       "      <td>27598</td>\n",
       "      <td>98.370855</td>\n",
       "      <td>455.010</td>\n",
       "      <td>456.43</td>\n",
       "      <td>454.1119</td>\n",
       "      <td>455.20</td>\n",
       "      <td>64618499</td>\n",
       "      <td>498996</td>\n",
       "      <td>455.352672</td>\n",
       "    </tr>\n",
       "  </tbody>\n",
       "</table>\n",
       "<p>756 rows × 14 columns</p>\n",
       "</div>"
      ],
      "text/plain": [
       "                              AGG                                      \\\n",
       "                             open    high       low   close    volume   \n",
       "timestamp                                                               \n",
       "2020-07-17 04:00:00+00:00  118.94  118.99  118.7700  118.88   2549106   \n",
       "2020-07-20 04:00:00+00:00  119.03  119.06  118.9100  119.01   3989211   \n",
       "2020-07-21 04:00:00+00:00  119.10  119.10  119.0100  119.08   6098027   \n",
       "2020-07-22 04:00:00+00:00  119.22  119.27  119.1100  119.18   6296788   \n",
       "2020-07-23 04:00:00+00:00  119.35  119.39  119.2517  119.32  12117179   \n",
       "...                           ...     ...       ...     ...       ...   \n",
       "2023-07-13 04:00:00+00:00   98.18   98.44   98.1150   98.41   7458509   \n",
       "2023-07-14 04:00:00+00:00   98.23   98.31   97.9200   97.94   7208357   \n",
       "2023-07-17 04:00:00+00:00   97.95   98.10   97.8500   98.05   4689560   \n",
       "2023-07-18 04:00:00+00:00   98.33   98.41   98.1300   98.13   5593380   \n",
       "2023-07-19 04:00:00+00:00   98.35   98.48   98.1850   98.43   7467923   \n",
       "\n",
       "                                                       SPY                    \\\n",
       "                          trade_count        vwap     open    high       low   \n",
       "timestamp                                                                      \n",
       "2020-07-17 04:00:00+00:00       11425  118.832256  321.890  322.57  319.7350   \n",
       "2020-07-20 04:00:00+00:00       13068  118.971408  321.430  325.13  320.6200   \n",
       "2020-07-21 04:00:00+00:00       19139  119.054911  326.450  326.93  323.9400   \n",
       "2020-07-22 04:00:00+00:00       13368  119.194519  324.620  327.20  324.5000   \n",
       "2020-07-23 04:00:00+00:00       41351  119.332482  326.470  327.23  321.4800   \n",
       "...                               ...         ...      ...     ...       ...   \n",
       "2023-07-13 04:00:00+00:00       31270   98.343983  447.900  450.38  447.4500   \n",
       "2023-07-14 04:00:00+00:00       21903   98.096753  450.475  451.36  448.4900   \n",
       "2023-07-17 04:00:00+00:00       19746   97.991651  449.130  451.93  449.0800   \n",
       "2023-07-18 04:00:00+00:00       18636   98.232098  450.500  454.86  450.0484   \n",
       "2023-07-19 04:00:00+00:00       27598   98.370855  455.010  456.43  454.1119   \n",
       "\n",
       "                                                                     \n",
       "                            close    volume trade_count        vwap  \n",
       "timestamp                                                            \n",
       "2020-07-17 04:00:00+00:00  321.70  64041703      324200  321.546922  \n",
       "2020-07-20 04:00:00+00:00  324.27  56308960      302422  323.156022  \n",
       "2020-07-21 04:00:00+00:00  324.90  57502967      337835  325.622832  \n",
       "2020-07-22 04:00:00+00:00  326.82  57794928      313092  325.873095  \n",
       "2020-07-23 04:00:00+00:00  322.95  75737989      442128  324.337984  \n",
       "...                           ...       ...         ...         ...  \n",
       "2023-07-13 04:00:00+00:00  449.56  72425241      449368  448.598241  \n",
       "2023-07-14 04:00:00+00:00  449.28  69730670      484025  449.818675  \n",
       "2023-07-17 04:00:00+00:00  450.84  52694540      386290  450.464364  \n",
       "2023-07-18 04:00:00+00:00  454.19  80744448      519350  453.206858  \n",
       "2023-07-19 04:00:00+00:00  455.20  64618499      498996  455.352672  \n",
       "\n",
       "[756 rows x 14 columns]"
      ]
     },
     "execution_count": 9,
     "metadata": {},
     "output_type": "execute_result"
    }
   ],
   "source": [
    "\n",
    "# Format current date as ISO format\n",
    "# YOUR CODE HERE!\n",
    "today = pd.Timestamp(\"2020-07-17\", tz=\"America/New_York\").isoformat()\n",
    "# Set the tickers\n",
    "tickers = [\"AGG\", \"SPY\"]\n",
    "# Set timeframe to \"1Day\" for Alpaca API\n",
    "timeframe = \"1Day\"\n",
    "\n",
    "# Get current closing prices for SPY and AGG\n",
    "# YOUR CODE HERE!\n",
    "df_portfolio_year = alpaca.get_bars(\n",
    "    tickers,\n",
    "    timeframe,\n",
    "    start = today\n",
    "    \n",
    ").df\n",
    "\n",
    "# Reorganize the DataFrame\n",
    "# Separate ticker data\n",
    "# YOUR CODE HERE!\n",
    "AGG = df_portfolio_year[df_portfolio_year['symbol']=='AGG'].drop('symbol', axis=1)\n",
    "SPY = df_portfolio_year[df_portfolio_year['symbol']=='SPY'].drop('symbol', axis=1)\n",
    "\n",
    "\n",
    "# Concatenate the ticker DataFrames\n",
    "# YOUR CODE HERE!\n",
    "df_portfolio_year = pd.concat([AGG, SPY],axis=1, keys=['AGG','SPY'])\n",
    "\n",
    "# Preview DataFrame\n",
    "# YOUR CODE HERE!\n",
    "df_portfolio_year"
   ]
  },
  {
   "cell_type": "code",
   "execution_count": 10,
   "metadata": {},
   "outputs": [
    {
     "name": "stdout",
     "output_type": "stream",
     "text": [
      "Current AGG closing price: $118.88\n"
     ]
    },
    {
     "data": {
      "text/plain": [
       "None"
      ]
     },
     "metadata": {},
     "output_type": "display_data"
    },
    {
     "name": "stdout",
     "output_type": "stream",
     "text": [
      "Current SPY closing price: $321.7\n"
     ]
    },
    {
     "data": {
      "text/plain": [
       "None"
      ]
     },
     "metadata": {},
     "output_type": "display_data"
    }
   ],
   "source": [
    "# Pick AGG and SPY close prices\n",
    "# YOUR CODE HERE!\n",
    "df_closing_prices = pd.DataFrame()\n",
    "agg_close_price = df_portfolio_year[\"AGG\"][\"close\"][0]\n",
    "spy_close_price = df_portfolio_year[\"SPY\"][\"close\"][0]\n",
    "#df_closing_prices.index = df_closing_prices.index.date\n",
    "#df_closing_prices.head(10)\n",
    "\n",
    "# Print AGG and SPY close prices\n",
    "display(print(f\"Current AGG closing price: ${agg_close_price}\"))\n",
    "display(print(f\"Current SPY closing price: ${spy_close_price}\"))\n"
   ]
  },
  {
   "cell_type": "code",
   "execution_count": 11,
   "metadata": {},
   "outputs": [
    {
     "name": "stdout",
     "output_type": "stream",
     "text": [
      "The current value of your 50 SPY shares is $16085.00\n",
      "The current value of your 200 AGG shares is $23776.00\n"
     ]
    }
   ],
   "source": [
    "# Compute the current value of shares\n",
    "# YOUR CODE HERE!\n",
    "my_spy_value = my_spy * spy_close_price\n",
    "my_agg_value = my_agg * agg_close_price\n",
    "#Print current value of shares\n",
    "\n",
    "print(f\"The current value of your {my_spy} SPY shares is ${my_spy_value:0.2f}\")\n",
    " \n",
    "print(f\"The current value of your {my_agg} AGG shares is ${my_agg_value:0.2f}\")"
   ]
  },
  {
   "cell_type": "markdown",
   "metadata": {},
   "source": [
    "### Savings Health Analysis"
   ]
  },
  {
   "cell_type": "code",
   "execution_count": 12,
   "metadata": {},
   "outputs": [],
   "source": [
    "# Set monthly household income\n",
    "# YOUR CODE HERE!\n",
    "monthly_income=(12000)\n",
    "Current_amount_of_crypto_assets = ('monthly_income')\n",
    "\n",
    "# Consolidate financial assets data\n",
    "# YOUR CODE HERE!\n",
    "\n",
    "# Create savings DataFrame\n",
    "# YOUR CODE HERE!\n",
    "\n",
    "# Display savings DataFrame\n",
    "# display(df_savings)\n"
   ]
  },
  {
   "cell_type": "code",
   "execution_count": 13,
   "metadata": {},
   "outputs": [
    {
     "ename": "NameError",
     "evalue": "name 'df_savings' is not defined",
     "output_type": "error",
     "traceback": [
      "\u001b[0;31m---------------------------------------------------------------------------\u001b[0m",
      "\u001b[0;31mNameError\u001b[0m                                 Traceback (most recent call last)",
      "Cell \u001b[0;32mIn[13], line 3\u001b[0m\n\u001b[1;32m      1\u001b[0m \u001b[38;5;66;03m# Plot savings pie chart\u001b[39;00m\n\u001b[1;32m      2\u001b[0m \u001b[38;5;66;03m# YOUR CODE HERE!\u001b[39;00m\n\u001b[0;32m----> 3\u001b[0m \u001b[43mdf_savings\u001b[49m\u001b[38;5;241m.\u001b[39mplot\u001b[38;5;241m.\u001b[39mpie(y\u001b[38;5;241m=\u001b[39m\u001b[38;5;124m\"\u001b[39m\u001b[38;5;124mamount\u001b[39m\u001b[38;5;124m\"\u001b[39m, title\u001b[38;5;241m=\u001b[39m{\u001b[38;5;124m'\u001b[39m\u001b[38;5;124mcenter\u001b[39m\u001b[38;5;124m'\u001b[39m:\u001b[38;5;124m'\u001b[39m\u001b[38;5;124mÇomposition of Personal Savings\u001b[39m\u001b[38;5;124m'\u001b[39m} )\n",
      "\u001b[0;31mNameError\u001b[0m: name 'df_savings' is not defined"
     ]
    }
   ],
   "source": [
    "# Plot savings pie chart\n",
    "# YOUR CODE HERE!\n",
    "df_savings.plot.pie(y=\"amount\", title={'center':'Çomposition of Personal Savings'} )\n"
   ]
  },
  {
   "cell_type": "code",
   "execution_count": null,
   "metadata": {},
   "outputs": [],
   "source": [
    "# Set ideal emergency fund\n",
    "emergency_fund = monthly_income * 3\n",
    "emergency_fund\n",
    "\n",
    "# Calculate total amount of savings\n",
    "# YOUR CODE HERE!\n",
    "\n",
    "# Validate saving health\n",
    "# YOUR CODE HERE!\n"
   ]
  },
  {
   "cell_type": "markdown",
   "metadata": {},
   "source": [
    "## Part 2 - Retirement Planning\n",
    "\n",
    "### Monte Carlo Simulation"
   ]
  },
  {
   "cell_type": "code",
   "execution_count": null,
   "metadata": {},
   "outputs": [],
   "source": [
    "# Set start and end dates of five years back from today.\n",
    "# Sample results may vary from the solution based on the time frame chosen\n",
    "start_date = pd.Timestamp('2016-05-01', tz='America/New_York').isoformat()\n",
    "end_date = pd.Timestamp('2021-05-01', tz='America/New_York').isoformat()"
   ]
  },
  {
   "cell_type": "code",
   "execution_count": null,
   "metadata": {},
   "outputs": [],
   "source": [
    "# Get 5 years' worth of historical data for SPY and AGG\n",
    "# YOUR CODE HERE!\n",
    "MC_fiveyear = MCSimulation(\n",
    "    portfolio_data = df_ticker,\n",
    "    weights = [.60,.40],\n",
    "    num_simulation = 500,\n",
    "    num_trading_days = 252*5\n",
    ")\n",
    "MC_fiveyear.portfolio_data.head()\n",
    "# Reorganize the DataFrame\n",
    "# Separate ticker data\n",
    "# YOUR CODE HERE!\n",
    "\n",
    "\n",
    "# Concatenate the ticker DataFrames\n",
    "# YOUR CODE HERE!\n",
    "\n",
    "# Display sample data\n",
    "df_stock_data.head()\n"
   ]
  },
  {
   "cell_type": "code",
   "execution_count": null,
   "metadata": {},
   "outputs": [],
   "source": [
    "# Configuring a Monte Carlo simulation to forecast 30 years cumulative returns\n",
    "# YOUR CODE HERE!\n",
    "MCthirtyyear = MCSimulation(\n",
    "    portfolio_data = df_ticker,\n",
    "    weights = [.60,.40],\n",
    "    num_simulation = 500,\n",
    "    num_trading_days = 252*30\n",
    ")"
   ]
  },
  {
   "cell_type": "code",
   "execution_count": null,
   "metadata": {},
   "outputs": [],
   "source": [
    "# Printing the simulation input data\n",
    "# YOUR CODE HERE!\n",
    "line_plot = MC_thirtyyear.plot_simulation()\n"
   ]
  },
  {
   "cell_type": "code",
   "execution_count": null,
   "metadata": {},
   "outputs": [],
   "source": [
    "# Running a Monte Carlo simulation to forecast 30 years cumulative returns\n",
    "# YOUR CODE HERE!\n",
    "MC_thirtyyear.calc_cumulative_return()"
   ]
  },
  {
   "cell_type": "code",
   "execution_count": null,
   "metadata": {},
   "outputs": [],
   "source": [
    "# Plot simulation outcomes\n",
    "# YOUR CODE HERE!\n",
    "line_plot = MC_thirtyyear.plot_simulation()\n"
   ]
  },
  {
   "cell_type": "code",
   "execution_count": null,
   "metadata": {},
   "outputs": [],
   "source": [
    "# Plot probability distribution and confidence intervals\n",
    "# YOUR CODE HERE!\n",
    "dist_plot = MC_thirtyyear.plot_distribution()\n"
   ]
  },
  {
   "cell_type": "markdown",
   "metadata": {},
   "source": [
    "### Retirement Analysis"
   ]
  },
  {
   "cell_type": "code",
   "execution_count": null,
   "metadata": {},
   "outputs": [],
   "source": [
    "# Fetch summary statistics from the Monte Carlo simulation results\n",
    "# YOUR CODE HERE!\n",
    "tbl = MC_thirtyyear.summarize_cumulative_return()\n",
    "\n",
    "# Print summary statistics\n",
    "# YOUR CODE HERE!\n",
    "print(tbl)\n"
   ]
  },
  {
   "cell_type": "markdown",
   "metadata": {},
   "source": [
    "### Calculate the expected portfolio return at the `95%` lower and upper confidence intervals based on a `$20,000` initial investment."
   ]
  },
  {
   "cell_type": "code",
   "execution_count": null,
   "metadata": {},
   "outputs": [],
   "source": [
    "# Set initial investment\n",
    "initial_investment = 20000\n",
    "\n",
    "# Use the lower and upper `95%` confidence intervals to calculate the range of the possible outcomes of our $20,000\n",
    "# YOUR CODE HERE!\n",
    "ci_lower = round(tbl[8]*20000,2)\n",
    "ci_upper = round(tbl[9]*20000,2)\n",
    "\n",
    "# Print results\n",
    "print(f\"There is a 95% chance that an initial investment of ${initial_investment} in the portfolio\"\n",
    "      f\" over the next 30 years will end within in the range of\"\n",
    "      f\" ${ci_lower} and ${ci_upper}\")"
   ]
  },
  {
   "cell_type": "markdown",
   "metadata": {},
   "source": [
    "### Calculate the expected portfolio return at the `95%` lower and upper confidence intervals based on a `50%` increase in the initial investment."
   ]
  },
  {
   "cell_type": "code",
   "execution_count": null,
   "metadata": {},
   "outputs": [],
   "source": [
    "# Set initial investment\n",
    "initial_investment = 20000 * 1.5\n",
    "\n",
    "# Use the lower and upper `95%` confidence intervals to calculate the range of the possible outcomes of our $30,000\n",
    "# YOUR CODE HERE!\n",
    "ci_lower = round(tbl[8]*20000,1.5)\n",
    "ci_upper = round(tbl[9]*20000,1.5)\n",
    "\n",
    "# Print results\n",
    "print(f\"There is a 95% chance that an initial investment of ${initial_investment} in the portfolio\"\n",
    "      f\" over the next 30 years will end within in the range of\"\n",
    "      f\" ${ci_lower} and ${ci_upper}\")"
   ]
  },
  {
   "cell_type": "markdown",
   "metadata": {},
   "source": [
    "## Optional Challenge - Early Retirement\n",
    "\n",
    "\n",
    "### Five Years Retirement Option"
   ]
  },
  {
   "cell_type": "code",
   "execution_count": null,
   "metadata": {},
   "outputs": [],
   "source": [
    "# Configuring a Monte Carlo simulation to forecast 5 years cumulative returns\n",
    "# YOUR CODE HERE!\n",
    "MC_exxon = MCSimulation(\n",
    "    portfolio_data = df_ticker,\n",
    "    weights = [.20,.20,.60],\n",
    "    num_simulation = 1000,\n",
    "    num_trading_days = 252*5)"
   ]
  },
  {
   "cell_type": "code",
   "execution_count": null,
   "metadata": {},
   "outputs": [],
   "source": [
    "# Running a Monte Carlo simulation to forecast 5 years cumulative returns\n",
    "# YOUR CODE HERE!\n",
    "MC_exxon.portfolio_data"
   ]
  },
  {
   "cell_type": "code",
   "execution_count": null,
   "metadata": {},
   "outputs": [],
   "source": [
    "# Plot simulation outcomes\n",
    "# YOUR CODE HERE!\n",
    "exxon_line_plot = MC_exxon.plot_simulation()\n"
   ]
  },
  {
   "cell_type": "code",
   "execution_count": null,
   "metadata": {},
   "outputs": [],
   "source": [
    "# Plot probability distribution and confidence intervals\n",
    "# YOUR CODE HERE!\n",
    "exxon_dist_plot = MC_exxon.plot_distribution()\n"
   ]
  },
  {
   "cell_type": "code",
   "execution_count": null,
   "metadata": {},
   "outputs": [],
   "source": [
    "# Fetch summary statistics from the Monte Carlo simulation results\n",
    "# YOUR CODE HERE!\n",
    "exxon_tbl = MC_exxon.summarize_cumulative_return()\n",
    "\n",
    "# Print summary statistics\n",
    "# YOUR CODE HERE!\n",
    "print(exxon_tbl)\n"
   ]
  },
  {
   "cell_type": "code",
   "execution_count": null,
   "metadata": {},
   "outputs": [],
   "source": [
    "# Set initial investment\n",
    "# YOUR CODE HERE!\n",
    "initial_investment = 60000\n",
    "# Use the lower and upper `95%` confidence intervals to calculate the range of the possible outcomes of our $60,000\n",
    "# YOUR CODE HERE!\n",
    "exxon_ci_lower = round(exxon_tbl[8]*60000,2)\n",
    "exxon_ci_upper = round(exxon_tbl[9]*60000,2)\n",
    "# Print results\n",
    "print(f\"There is a 95% chance that an initial investment of ${initial_investment} in the portfolio\"\n",
    "      f\" over the next 5 years will end within in the range of\"\n",
    "      f\" ${ci_lower_five} and ${ci_upper_five}\")"
   ]
  },
  {
   "cell_type": "markdown",
   "metadata": {},
   "source": [
    "### Ten Years Retirement Option"
   ]
  },
  {
   "cell_type": "code",
   "execution_count": null,
   "metadata": {},
   "outputs": [],
   "source": [
    "# Configuring a Monte Carlo simulation to forecast 10 years cumulative returns\n",
    "# YOUR CODE HERE!"
   ]
  },
  {
   "cell_type": "code",
   "execution_count": null,
   "metadata": {},
   "outputs": [],
   "source": [
    "# Running a Monte Carlo simulation to forecast 10 years cumulative returns\n",
    "# YOUR CODE HERE!"
   ]
  },
  {
   "cell_type": "code",
   "execution_count": null,
   "metadata": {},
   "outputs": [],
   "source": [
    "# Plot simulation outcomes\n",
    "# YOUR CODE HERE!"
   ]
  },
  {
   "cell_type": "code",
   "execution_count": null,
   "metadata": {},
   "outputs": [],
   "source": [
    "# Plot probability distribution and confidence intervals\n",
    "# YOUR CODE HERE!"
   ]
  },
  {
   "cell_type": "code",
   "execution_count": null,
   "metadata": {},
   "outputs": [],
   "source": [
    "# Fetch summary statistics from the Monte Carlo simulation results\n",
    "# YOUR CODE HERE!\n",
    "\n",
    "# Print summary statistics\n",
    "# YOUR CODE HERE!"
   ]
  },
  {
   "cell_type": "code",
   "execution_count": null,
   "metadata": {},
   "outputs": [],
   "source": [
    "# Set initial investment\n",
    "# YOUR CODE HERE!\n",
    "\n",
    "# Use the lower and upper `95%` confidence intervals to calculate the range of the possible outcomes of our $60,000\n",
    "# YOUR CODE HERE!\n",
    "\n",
    "# Print results\n",
    "print(f\"There is a 95% chance that an initial investment of ${initial_investment} in the portfolio\"\n",
    "      f\" over the next 10 years will end within in the range of\"\n",
    "      f\" ${ci_lower_ten} and ${ci_upper_ten}\")"
   ]
  },
  {
   "cell_type": "code",
   "execution_count": null,
   "metadata": {},
   "outputs": [],
   "source": []
  }
 ],
 "metadata": {
  "kernelspec": {
   "display_name": "Python 3 (ipykernel)",
   "language": "python",
   "name": "python3"
  },
  "language_info": {
   "codemirror_mode": {
    "name": "ipython",
    "version": 3
   },
   "file_extension": ".py",
   "mimetype": "text/x-python",
   "name": "python",
   "nbconvert_exporter": "python",
   "pygments_lexer": "ipython3",
   "version": "3.10.9"
  },
  "nteract": {
   "version": "0.28.0"
  }
 },
 "nbformat": 4,
 "nbformat_minor": 4
}
